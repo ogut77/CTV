{
  "nbformat": 4,
  "nbformat_minor": 0,
  "metadata": {
    "colab": {
      "name": "Untitled73.ipynb",
      "provenance": [],
      "authorship_tag": "ABX9TyNi0uKOCPWOqRP2zXX6kCkM",
      "include_colab_link": true
    },
    "kernelspec": {
      "name": "python3",
      "display_name": "Python 3"
    },
    "language_info": {
      "name": "python"
    }
  },
  "cells": [
    {
      "cell_type": "markdown",
      "metadata": {
        "id": "view-in-github",
        "colab_type": "text"
      },
      "source": [
        "<a href=\"https://colab.research.google.com/github/ogut77/CTV/blob/main/SVRTS.ipynb\" target=\"_parent\"><img src=\"https://colab.research.google.com/assets/colab-badge.svg\" alt=\"Open In Colab\"/></a>"
      ]
    },
    {
      "cell_type": "code",
      "execution_count": null,
      "metadata": {
        "id": "EobA5ne51j8U"
      },
      "outputs": [],
      "source": [
        "bts_sup = timeseries_to_supervised(bts,1)\n",
        "bts_sup = bts_sup.iloc[1:,:]   # delete the line because x0 don't have antecedant\n",
        "train, test = split_data(bts_sup)\n",
        "\n",
        "# sacling data\n",
        "scaler_in = MinMaxScaler()  #  for inputs\n",
        "scaler_out = MinMaxScaler()  # for outputs\n",
        "\n",
        "X_train = scaler_in.fit_transform(train[:,0].reshape(-1,1))\n",
        "y_train = scaler_out.fit_transform(train[:,1].reshape(-1,1))\n",
        "\n",
        "X_test = scaler_in.transform(test[:,0].reshape(-1,1))\n",
        "y_test = scaler_out.transform(test[:,1].reshape(-1,1))\n",
        "\n",
        "\n",
        "param_grid = {\"C\": np.linspace(10**(-2),10**3,100),\n",
        "             'gamma': np.linspace(0.0001,1,20)}\n",
        "\n",
        "mod = SVR(epsilon = 0.1,kernel='rbf')\n",
        "model = GridSearchCV(estimator = mod, param_grid = param_grid,\n",
        "                                   scoring = \"neg_mean_squared_error\",verbose = 0)\n",
        "\n",
        "best_model = model.fit(X_train, y_train.ravel())\n",
        "\n",
        "#prediction\n",
        "predicted_tr = model.predict(X_train)\n",
        "predicted_te = model.predict(X_test)\n",
        "\n",
        "# inverse_transform because prediction is done on scaled inputs\n",
        "predicted_tr = scaler_out.inverse_transform(predicted_tr.reshape(-1,1))\n",
        "predicted_te = scaler_out.inverse_transform(predicted_te.reshape(-1,1))\n",
        "\n",
        "#plot\n",
        "forcast = np.concatenate((predicted_tr,predicted_te))\n",
        "real = np.concatenate((train[:,1],test[:,1]))\n",
        "plt.plot(real, color = 'blue', label = 'Real Erlangs')\n",
        "plt.plot(forcast,\"--\", linewidth=2,color = 'red', label = 'Predicted Erlangs')\n",
        "plt.title('Erlangs Prediction--'+data_set.columns[choice])\n",
        "plt.xlabel('Time')\n",
        "plt.ylabel('Erlangs')\n",
        "plt.legend()\n",
        "plt.show()\n",
        "\n",
        "\n",
        "#error\n",
        "print(\"MSE: \", mse(real,forcast), \" R2: \", r2_score(real,forcast))\n",
        "print(best_model.best_params_)"
      ]
    }
  ]
}